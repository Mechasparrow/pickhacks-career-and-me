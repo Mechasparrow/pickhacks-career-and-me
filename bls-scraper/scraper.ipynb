{
 "cells": [
  {
   "cell_type": "code",
   "execution_count": 88,
   "metadata": {},
   "outputs": [],
   "source": [
    "import requests\n",
    "from bs4 import BeautifulSoup"
   ]
  },
  {
   "cell_type": "code",
   "execution_count": 89,
   "metadata": {},
   "outputs": [],
   "source": [
    "BASE_URL = \"https://www.bls.gov\"\n",
    "URL = f\"{BASE_URL}/ooh/field-of-degree/home.htm\"\n",
    "field_of_degree_page = requests.get(URL)\n"
   ]
  },
  {
   "cell_type": "code",
   "execution_count": 90,
   "metadata": {},
   "outputs": [],
   "source": [
    "soup = BeautifulSoup(field_of_degree_page.content, \"html.parser\")"
   ]
  },
  {
   "cell_type": "code",
   "execution_count": 91,
   "metadata": {},
   "outputs": [],
   "source": [
    "field_of_degree_links = []\n",
    "field_of_degree_list = []\n",
    "field_of_degree_list_elements = soup.find(\"table\").find(\"ul\").find_all(\"li\")\n",
    "\n",
    "for field_of_degree_list_element in field_of_degree_list_elements:\n",
    "    anchor_tag = field_of_degree_list_element.find(\"a\")\n",
    "    href = anchor_tag.attrs[\"href\"]\n",
    "    field_of_degree_list.append(anchor_tag.text)\n",
    "    field_of_degree_links.append(href)"
   ]
  },
  {
   "cell_type": "code",
   "execution_count": 92,
   "metadata": {},
   "outputs": [],
   "source": [
    "degree_soups = []\n",
    "\n",
    "for link in field_of_degree_links:\n",
    "    href_in_question = link\n",
    "    qualified_href = f'{BASE_URL}{href_in_question}'\n",
    "\n",
    "    field_of_degree_handbook_page = requests.get(qualified_href)\n",
    "    degree_soup = BeautifulSoup(field_of_degree_handbook_page.content, \"html.parser\")\n",
    "\n",
    "    degree_soups.append(degree_soup)\n"
   ]
  },
  {
   "cell_type": "code",
   "execution_count": 93,
   "metadata": {},
   "outputs": [],
   "source": [
    "degree_map = {}\n",
    "\n",
    "for degree_name in field_of_degree_list:\n",
    "    degree_map[degree_name] = {}\n",
    "    degree_map[degree_name][\"table_1\"] = None\n",
    "    degree_map[degree_name][\"table_2\"] = None\n",
    "    degree_map[degree_name][\"chart_1\"] = None\n",
    "    degree_map[degree_name][\"chart_2\"] = None\n"
   ]
  },
  {
   "cell_type": "code",
   "execution_count": 94,
   "metadata": {},
   "outputs": [
    {
     "name": "stdout",
     "output_type": "stream",
     "text": [
      "\n",
      "\n",
      "\n",
      "\n",
      "\n",
      "\n",
      "\n",
      "\n",
      "\n",
      "\n",
      "\n",
      "\n",
      "\n",
      "\n",
      "\n",
      "\n",
      "\n",
      "\n",
      "\n"
     ]
    }
   ],
   "source": [
    "table_to_key = {\n",
    "    \"Table 1\": \"table_1\",\n",
    "    \"Chart 1\": \"table_2\",\n",
    "    \"Table 2\": \"chart_1\",\n",
    "    \"Chart 2\": \"chart_2\"\n",
    "}\n",
    "\n",
    "for i in range(len(field_of_degree_list)):\n",
    "    degree_soup = degree_soups[i]\n",
    "    degree_name = field_of_degree_list[i]\n",
    "\n",
    "    tables = degree_soup.find_all(\"table\")\n",
    "    table_dict = {}\n",
    "\n",
    "    for table in tables:\n",
    "        table_title = table.find(\"caption\").find(\"span\").text\n",
    "\n",
    "        if (table_title == \"test table\"):\n",
    "            continue\n",
    "\n",
    "        table_key = table_to_key[table_title.split(\".\")[0]]\n",
    "\n",
    "        degree_map[degree_name][table_key] = table\n",
    "    \n",
    "    print()"
   ]
  },
  {
   "cell_type": "code",
   "execution_count": 95,
   "metadata": {},
   "outputs": [],
   "source": [
    "import itertools\n",
    "import functools\n",
    "import pandas as pd"
   ]
  },
  {
   "cell_type": "code",
   "execution_count": 96,
   "metadata": {},
   "outputs": [],
   "source": [
    "# Parse all the table_1\n",
    "def map_to_table_1(table_dict):\n",
    "    return table_dict[\"table_1\"]\n",
    "    \n",
    "table_1s = list(map(map_to_table_1, degree_map.values()))\n",
    "\n",
    "all_frames = []\n",
    "\n",
    "for table in table_1s:\n",
    "    table_columns = list(map(lambda x: x.text, table.find(\"thead\").find(\"tr\").find_all(\"th\")))\n",
    "    table_rows = list(map(lambda row: [row.find(\"th\").text.strip(\"\\n\")] + list(map(lambda rowelem: rowelem.text, row.find_all(\"td\"))) , table.find(\"tbody\").find_all(\"tr\")))\n",
    "    table_frame = pd.DataFrame(data=table_rows, columns=table_columns).T\n",
    "    \n",
    "    complete_frame = table_frame.drop(index=\"All fields\")[1:]\n",
    "    complete_frame.reset_index(inplace=True)\n",
    "    complete_frame.columns = [\"Field Of Study\", \"Employment\", \"Median wage\", \"Percent employed part time\", \"Percent employed in occupations requiring at least a bachelor's degree\", \"Percent with an advanced degree\"]\n",
    "    all_frames.append(complete_frame)\n",
    "   \n",
    "table_1_frame = pd.concat(all_frames)"
   ]
  },
  {
   "cell_type": "code",
   "execution_count": 97,
   "metadata": {},
   "outputs": [],
   "source": [
    "# Parse all the chart_1\n",
    "def map_to_chart_1(table_dict):\n",
    "    return table_dict[\"chart_1\"]\n",
    "    \n",
    "chart_1s = list(map(map_to_chart_1, degree_map.values()))\n",
    "\n",
    "all_frames = []\n",
    "\n",
    "#for table in chart_1s:\n",
    "for i in range(len(chart_1s)):\n",
    "    table = chart_1s[i]\n",
    "    field_of_study = field_of_degree_list[i]\n",
    "\n",
    "    table_columns = list(map(lambda x: x.text, table.find(\"thead\").find(\"tr\").find_all(\"th\")))\n",
    "    table_rows = list(map(lambda row: [row.find(\"th\").text.strip(\"\\n\")] + list(map(lambda rowelem: rowelem.text, row.find_all(\"td\"))) , table.find(\"tbody\").find_all(\"tr\")))\n",
    "    table_frame = pd.DataFrame(data=table_rows, columns=table_columns)\n",
    "    table_frame[\"Field of Study\"] = field_of_study\n",
    " \n",
    "    all_frames.append(table_frame)\n",
    "\n",
    "\n",
    "table_2_frame = pd.concat(all_frames)"
   ]
  },
  {
   "cell_type": "code",
   "execution_count": 98,
   "metadata": {},
   "outputs": [],
   "source": [
    "# Parse all the table_2\n",
    "def map_to_table_2(table_dict):\n",
    "    return table_dict[\"table_2\"]\n",
    "    \n",
    "table_2s = list(map(map_to_table_2, degree_map.values()))\n",
    "\n",
    "all_frames = []\n",
    "\n",
    "#for table in chart_1s:\n",
    "for i in range(len(table_2s)):\n",
    "\n",
    "    table = table_2s[i]\n",
    "    field_of_study = field_of_degree_list[i]\n",
    "\n",
    "    table_columns = list(map(lambda x: x.text, table.find(\"thead\").find(\"tr\").find_all(\"th\")))\n",
    "    table_rows = list(map(lambda row: [row.find(\"th\").text.strip(\"\\n\")] + list(map(lambda rowelem: rowelem.text.strip(\"%\"), row.find_all(\"td\"))) , table.find(\"tbody\").find_all(\"tr\")))\n",
    "    table_frame = pd.DataFrame(data=table_rows, columns=table_columns)\n",
    "    table_frame[\"Field of Study\"] = field_of_study\n",
    "\n",
    "    table_frame.rename(columns={ table_frame.columns[0]: \"Majors\" }, inplace = True)\n",
    "    all_frames.append(table_frame)\n",
    "\n",
    "\n",
    "table_3_frame = pd.concat(all_frames)"
   ]
  },
  {
   "cell_type": "code",
   "execution_count": 104,
   "metadata": {},
   "outputs": [],
   "source": [
    "# Parse all the chart_2\n",
    "def map_to_chart_2(table_dict):\n",
    "    return table_dict[\"chart_2\"]\n",
    "    \n",
    "chart_2s = list(map(map_to_chart_2, degree_map.values()))\n",
    "\n",
    "all_frames = []\n",
    "\n",
    "#for table in chart_1s:\n",
    "for i in range(len(chart_2s)):\n",
    "    table = chart_2s[i]\n",
    "    field_of_study = field_of_degree_list[i]\n",
    "\n",
    "    table_columns = list(map(lambda x: x.text, table.find(\"thead\").find(\"tr\").find_all(\"th\")))\n",
    "    table_rows = list(map(lambda row: [row.find(\"th\").text.strip(\"\\n\")] + list(map(lambda rowelem: rowelem.text.strip(\"%\"), row.find_all(\"td\"))) , table.find(\"tbody\").find_all(\"tr\")))\n",
    "    table_frame = pd.DataFrame(data=table_rows, columns=table_columns)\n",
    "    table_frame[\"Field of Study\"] = field_of_study\n",
    "    \n",
    "    all_frames.append(table_frame)\n",
    "\n",
    "table_4_frame = pd.concat(all_frames)"
   ]
  },
  {
   "cell_type": "code",
   "execution_count": 106,
   "metadata": {},
   "outputs": [],
   "source": [
    "with pd.ExcelWriter(\"bls-fields-of-study.xlsx\") as writer:\n",
    "    table_1_frame.to_excel(writer, sheet_name=\"DegreeComparedToOthers_Table1\", index=False)\n",
    "    table_2_frame.to_excel(writer, sheet_name=\"TopEmployingOccupations_Table2\", index=False)\n",
    "    table_3_frame.to_excel(writer, sheet_name=\"TypesOfMajorsForField_Table3\", index=False)\n",
    "    table_4_frame.to_excel(writer, sheet_name=\"EmploymentForField_Table4\", index=False)"
   ]
  }
 ],
 "metadata": {
  "interpreter": {
   "hash": "1f3df24cbaffbc978a98c1428e25808944b6bb122a378acb8554a25155fa09e9"
  },
  "kernelspec": {
   "display_name": "Python 3.6.5 64-bit ('3.6.5')",
   "language": "python",
   "name": "python3"
  },
  "language_info": {
   "codemirror_mode": {
    "name": "ipython",
    "version": 3
   },
   "file_extension": ".py",
   "mimetype": "text/x-python",
   "name": "python",
   "nbconvert_exporter": "python",
   "pygments_lexer": "ipython3",
   "version": "3.6.5"
  },
  "orig_nbformat": 4
 },
 "nbformat": 4,
 "nbformat_minor": 2
}
